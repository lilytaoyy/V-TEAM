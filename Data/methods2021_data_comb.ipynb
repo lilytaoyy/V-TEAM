{
 "cells": [
  {
   "cell_type": "code",
   "execution_count": 2,
   "metadata": {},
   "outputs": [],
   "source": [
    "import pandas as pd\n",
    "import numpy as np"
   ]
  },
  {
   "cell_type": "code",
   "execution_count": 21,
   "metadata": {},
   "outputs": [],
   "source": [
    "data19 = pd.read_csv(\"./2019VAERSData/2019VAERSDATA.csv\", encoding='latin-1')\n",
    "symp19 = pd.read_csv(\"./2019VAERSData/2019VAERSSYMPTOMS.csv\")\n",
    "vax19 = pd.read_csv(\"./2019VAERSData/2019VAERSVAX.csv\")"
   ]
  },
  {
   "cell_type": "code",
   "execution_count": 22,
   "metadata": {},
   "outputs": [],
   "source": [
    "data20 = pd.read_csv(\"./2020VAERSData/2020VAERSDATA.csv\", encoding='latin-1')\n",
    "symp20 = pd.read_csv(\"./2020VAERSData/2020VAERSSYMPTOMS.csv\")\n",
    "vax20 = pd.read_csv(\"./2020VAERSData/2020VAERSVAX.csv\")"
   ]
  },
  {
   "cell_type": "code",
   "execution_count": 23,
   "metadata": {},
   "outputs": [
    {
     "name": "stderr",
     "output_type": "stream",
     "text": [
      "/opt/anaconda3/lib/python3.7/site-packages/IPython/core/interactiveshell.py:3058: DtypeWarning: Columns (7,12,23) have mixed types. Specify dtype option on import or set low_memory=False.\n",
      "  interactivity=interactivity, compiler=compiler, result=result)\n"
     ]
    }
   ],
   "source": [
    "data21 = pd.read_csv(\"./2021VAERSData/2021VAERSDATA.csv\", encoding='latin-1')\n",
    "symp21 = pd.read_csv(\"./2021VAERSData/2021VAERSSYMPTOMS.csv\")\n",
    "vax21 = pd.read_csv(\"./2021VAERSData/2021VAERSVAX.csv\")"
   ]
  },
  {
   "cell_type": "code",
   "execution_count": 24,
   "metadata": {},
   "outputs": [],
   "source": [
    "data19.YEAR = 2019\n",
    "data20.YEAR = 2020\n",
    "data21.YEAR = 2021"
   ]
  },
  {
   "cell_type": "code",
   "execution_count": 26,
   "metadata": {},
   "outputs": [],
   "source": [
    "data_comb = data19.append(data20, ignore_index=True).append(data21, ignore_index = True)\n",
    "symp_comb = symp19.append(symp20, ignore_index=True).append(symp21, ignore_index = True)\n",
    "vax_comb = vax19.append(vax20, ignore_index=True).append(vax21, ignore_index = True)"
   ]
  },
  {
   "cell_type": "code",
   "execution_count": 31,
   "metadata": {},
   "outputs": [],
   "source": [
    "data_comb.to_csv(\"19-21VAERSDATA.csv\", index=False)\n",
    "symp_comb.to_csv(\"19-21VAERSSYMPTOMS.csv\", index=False)\n",
    "vax_comb.to_csv(\"19-21VAERSVAX.csv\", index=False)"
   ]
  },
  {
   "cell_type": "code",
   "execution_count": 42,
   "metadata": {},
   "outputs": [],
   "source": [
    "merged = pd.merge(data_comb, symp_comb, how=\"left\", on=[\"VAERS_ID\"])"
   ]
  },
  {
   "cell_type": "code",
   "execution_count": 43,
   "metadata": {},
   "outputs": [],
   "source": [
    "merged_ = pd.merge(merged, vax_comb, how=\"left\", on=[\"VAERS_ID\"])"
   ]
  },
  {
   "cell_type": "code",
   "execution_count": 44,
   "metadata": {},
   "outputs": [
    {
     "data": {
      "text/html": [
       "<div>\n",
       "<style scoped>\n",
       "    .dataframe tbody tr th:only-of-type {\n",
       "        vertical-align: middle;\n",
       "    }\n",
       "\n",
       "    .dataframe tbody tr th {\n",
       "        vertical-align: top;\n",
       "    }\n",
       "\n",
       "    .dataframe thead th {\n",
       "        text-align: right;\n",
       "    }\n",
       "</style>\n",
       "<table border=\"1\" class=\"dataframe\">\n",
       "  <thead>\n",
       "    <tr style=\"text-align: right;\">\n",
       "      <th></th>\n",
       "      <th>VAERS_ID</th>\n",
       "      <th>RECVDATE</th>\n",
       "      <th>STATE</th>\n",
       "      <th>AGE_YRS</th>\n",
       "      <th>CAGE_YR</th>\n",
       "      <th>CAGE_MO</th>\n",
       "      <th>SEX</th>\n",
       "      <th>RPT_DATE</th>\n",
       "      <th>SYMPTOM_TEXT</th>\n",
       "      <th>DIED</th>\n",
       "      <th>...</th>\n",
       "      <th>SYMPTOMVERSION4</th>\n",
       "      <th>SYMPTOM5</th>\n",
       "      <th>SYMPTOMVERSION5</th>\n",
       "      <th>VAX_TYPE</th>\n",
       "      <th>VAX_MANU</th>\n",
       "      <th>VAX_LOT</th>\n",
       "      <th>VAX_DOSE_SERIES</th>\n",
       "      <th>VAX_ROUTE</th>\n",
       "      <th>VAX_SITE</th>\n",
       "      <th>VAX_NAME</th>\n",
       "    </tr>\n",
       "  </thead>\n",
       "  <tbody>\n",
       "    <tr>\n",
       "      <td>0</td>\n",
       "      <td>794156</td>\n",
       "      <td>01/01/2019</td>\n",
       "      <td>NaN</td>\n",
       "      <td>69.0</td>\n",
       "      <td>69.0</td>\n",
       "      <td>NaN</td>\n",
       "      <td>F</td>\n",
       "      <td>NaN</td>\n",
       "      <td>Severe pain Lt. shoulder area, very localized ...</td>\n",
       "      <td>NaN</td>\n",
       "      <td>...</td>\n",
       "      <td>NaN</td>\n",
       "      <td>NaN</td>\n",
       "      <td>NaN</td>\n",
       "      <td>FLU4</td>\n",
       "      <td>GLAXOSMITHKLINE BIOLOGICALS</td>\n",
       "      <td>JZ3B7</td>\n",
       "      <td>UNK</td>\n",
       "      <td>IM</td>\n",
       "      <td>LA</td>\n",
       "      <td>INFLUENZA (SEASONAL) (FLUARIX QUADRIVALENT)</td>\n",
       "    </tr>\n",
       "    <tr>\n",
       "      <td>1</td>\n",
       "      <td>794157</td>\n",
       "      <td>01/01/2019</td>\n",
       "      <td>IL</td>\n",
       "      <td>68.0</td>\n",
       "      <td>68.0</td>\n",
       "      <td>NaN</td>\n",
       "      <td>F</td>\n",
       "      <td>NaN</td>\n",
       "      <td>Much joint pain/aching, lack of energy, listle...</td>\n",
       "      <td>NaN</td>\n",
       "      <td>...</td>\n",
       "      <td>21.1</td>\n",
       "      <td>Injection site pain</td>\n",
       "      <td>21.1</td>\n",
       "      <td>VARZOS</td>\n",
       "      <td>GLAXOSMITHKLINE BIOLOGICALS</td>\n",
       "      <td>NaN</td>\n",
       "      <td>UNK</td>\n",
       "      <td>NaN</td>\n",
       "      <td>NaN</td>\n",
       "      <td>ZOSTER (SHINGRIX)</td>\n",
       "    </tr>\n",
       "    <tr>\n",
       "      <td>2</td>\n",
       "      <td>794157</td>\n",
       "      <td>01/01/2019</td>\n",
       "      <td>IL</td>\n",
       "      <td>68.0</td>\n",
       "      <td>68.0</td>\n",
       "      <td>NaN</td>\n",
       "      <td>F</td>\n",
       "      <td>NaN</td>\n",
       "      <td>Much joint pain/aching, lack of energy, listle...</td>\n",
       "      <td>NaN</td>\n",
       "      <td>...</td>\n",
       "      <td>21.1</td>\n",
       "      <td>Night sweats</td>\n",
       "      <td>21.1</td>\n",
       "      <td>VARZOS</td>\n",
       "      <td>GLAXOSMITHKLINE BIOLOGICALS</td>\n",
       "      <td>NaN</td>\n",
       "      <td>UNK</td>\n",
       "      <td>NaN</td>\n",
       "      <td>NaN</td>\n",
       "      <td>ZOSTER (SHINGRIX)</td>\n",
       "    </tr>\n",
       "    <tr>\n",
       "      <td>3</td>\n",
       "      <td>794158</td>\n",
       "      <td>01/01/2019</td>\n",
       "      <td>MA</td>\n",
       "      <td>62.0</td>\n",
       "      <td>62.0</td>\n",
       "      <td>NaN</td>\n",
       "      <td>F</td>\n",
       "      <td>NaN</td>\n",
       "      <td>Headache, Fever, Chills, Body Aches, Nausea la...</td>\n",
       "      <td>NaN</td>\n",
       "      <td>...</td>\n",
       "      <td>21.1</td>\n",
       "      <td>Pyrexia</td>\n",
       "      <td>21.1</td>\n",
       "      <td>VARZOS</td>\n",
       "      <td>GLAXOSMITHKLINE BIOLOGICALS</td>\n",
       "      <td>NaN</td>\n",
       "      <td>UNK</td>\n",
       "      <td>NaN</td>\n",
       "      <td>NaN</td>\n",
       "      <td>ZOSTER (SHINGRIX)</td>\n",
       "    </tr>\n",
       "    <tr>\n",
       "      <td>4</td>\n",
       "      <td>794159</td>\n",
       "      <td>01/01/2019</td>\n",
       "      <td>UT</td>\n",
       "      <td>5.0</td>\n",
       "      <td>5.0</td>\n",
       "      <td>NaN</td>\n",
       "      <td>M</td>\n",
       "      <td>NaN</td>\n",
       "      <td>Site is swollen, red and warm to the touch. Pa...</td>\n",
       "      <td>NaN</td>\n",
       "      <td>...</td>\n",
       "      <td>21.1</td>\n",
       "      <td>NaN</td>\n",
       "      <td>NaN</td>\n",
       "      <td>DTAPIPV</td>\n",
       "      <td>GLAXOSMITHKLINE BIOLOGICALS</td>\n",
       "      <td>G9P35</td>\n",
       "      <td>1</td>\n",
       "      <td>IM</td>\n",
       "      <td>LL</td>\n",
       "      <td>DTAP + IPV (KINRIX)</td>\n",
       "    </tr>\n",
       "  </tbody>\n",
       "</table>\n",
       "<p>5 rows × 52 columns</p>\n",
       "</div>"
      ],
      "text/plain": [
       "   VAERS_ID    RECVDATE STATE  AGE_YRS  CAGE_YR  CAGE_MO SEX RPT_DATE  \\\n",
       "0    794156  01/01/2019   NaN     69.0     69.0      NaN   F      NaN   \n",
       "1    794157  01/01/2019    IL     68.0     68.0      NaN   F      NaN   \n",
       "2    794157  01/01/2019    IL     68.0     68.0      NaN   F      NaN   \n",
       "3    794158  01/01/2019    MA     62.0     62.0      NaN   F      NaN   \n",
       "4    794159  01/01/2019    UT      5.0      5.0      NaN   M      NaN   \n",
       "\n",
       "                                        SYMPTOM_TEXT DIED  ...  \\\n",
       "0  Severe pain Lt. shoulder area, very localized ...  NaN  ...   \n",
       "1  Much joint pain/aching, lack of energy, listle...  NaN  ...   \n",
       "2  Much joint pain/aching, lack of energy, listle...  NaN  ...   \n",
       "3  Headache, Fever, Chills, Body Aches, Nausea la...  NaN  ...   \n",
       "4  Site is swollen, red and warm to the touch. Pa...  NaN  ...   \n",
       "\n",
       "  SYMPTOMVERSION4             SYMPTOM5 SYMPTOMVERSION5 VAX_TYPE  \\\n",
       "0             NaN                  NaN             NaN     FLU4   \n",
       "1            21.1  Injection site pain            21.1   VARZOS   \n",
       "2            21.1         Night sweats            21.1   VARZOS   \n",
       "3            21.1              Pyrexia            21.1   VARZOS   \n",
       "4            21.1                  NaN             NaN  DTAPIPV   \n",
       "\n",
       "                      VAX_MANU VAX_LOT VAX_DOSE_SERIES VAX_ROUTE VAX_SITE  \\\n",
       "0  GLAXOSMITHKLINE BIOLOGICALS   JZ3B7             UNK        IM       LA   \n",
       "1  GLAXOSMITHKLINE BIOLOGICALS     NaN             UNK       NaN      NaN   \n",
       "2  GLAXOSMITHKLINE BIOLOGICALS     NaN             UNK       NaN      NaN   \n",
       "3  GLAXOSMITHKLINE BIOLOGICALS     NaN             UNK       NaN      NaN   \n",
       "4  GLAXOSMITHKLINE BIOLOGICALS   G9P35               1        IM       LL   \n",
       "\n",
       "                                      VAX_NAME  \n",
       "0  INFLUENZA (SEASONAL) (FLUARIX QUADRIVALENT)  \n",
       "1                            ZOSTER (SHINGRIX)  \n",
       "2                            ZOSTER (SHINGRIX)  \n",
       "3                            ZOSTER (SHINGRIX)  \n",
       "4                          DTAP + IPV (KINRIX)  \n",
       "\n",
       "[5 rows x 52 columns]"
      ]
     },
     "execution_count": 44,
     "metadata": {},
     "output_type": "execute_result"
    }
   ],
   "source": [
    "merged_.head()"
   ]
  },
  {
   "cell_type": "code",
   "execution_count": 45,
   "metadata": {},
   "outputs": [],
   "source": [
    "merged_.to_csv(\"19-21VAERSCOMB.csv\", index = False)"
   ]
  },
  {
   "cell_type": "code",
   "execution_count": null,
   "metadata": {},
   "outputs": [],
   "source": []
  }
 ],
 "metadata": {
  "kernelspec": {
   "display_name": "Python 3",
   "language": "python",
   "name": "python3"
  },
  "language_info": {
   "codemirror_mode": {
    "name": "ipython",
    "version": 3
   },
   "file_extension": ".py",
   "mimetype": "text/x-python",
   "name": "python",
   "nbconvert_exporter": "python",
   "pygments_lexer": "ipython3",
   "version": "3.7.4"
  }
 },
 "nbformat": 4,
 "nbformat_minor": 2
}
